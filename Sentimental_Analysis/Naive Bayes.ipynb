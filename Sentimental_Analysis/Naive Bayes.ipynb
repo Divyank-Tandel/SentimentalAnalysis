{
 "cells": [
  {
   "cell_type": "code",
   "execution_count": 1,
   "id": "823a690e-888b-4bbb-92d6-9947eef23267",
   "metadata": {},
   "outputs": [
    {
     "name": "stdout",
     "output_type": "stream",
     "text": [
      "Model: \"sequential\"\n",
      "_________________________________________________________________\n",
      " Layer (type)                Output Shape              Param #   \n",
      "=================================================================\n",
      " embedding (Embedding)       (None, 15, 10)            100000    \n",
      "                                                                 \n",
      "=================================================================\n",
      "Total params: 100000 (390.62 KB)\n",
      "Trainable params: 100000 (390.62 KB)\n",
      "Non-trainable params: 0 (0.00 Byte)\n",
      "_________________________________________________________________\n",
      "87/87 [==============================] - 0s 1ms/step\n"
     ]
    }
   ],
   "source": [
    "import numpy as np\n",
    "import pandas as pd\n",
    "import matplotlib.pyplot as plt\n",
    "import seaborn as sns\n",
    "import random\n",
    "import nltk\n",
    "import tensorflow as tf\n",
    "import os\n",
    "import string\n",
    "import re\n",
    "data = pd.read_excel('sentence_past_present_future.xlsx')\n",
    "y = data['Categorie']\n",
    "from sklearn.preprocessing import LabelEncoder\n",
    "le = LabelEncoder()\n",
    "y = le.fit_transform(y)\n",
    "from nltk.tokenize import word_tokenize\n",
    "from tensorflow.keras.preprocessing.text import one_hot\n",
    "voc_size = 10000\n",
    "input = []\n",
    "for x in data['Sentences']:\n",
    "    val = word_tokenize(x)\n",
    "    one_rpr = one_hot(str(val),n=voc_size,lower=False,split=None)\n",
    "    input.append(one_rpr)\n",
    "from tensorflow.keras.layers import Embedding\n",
    "from tensorflow.keras.preprocessing.sequence import pad_sequences\n",
    "from tensorflow.keras.models import Sequential\n",
    "sent_length = 15\n",
    "embedded_docs = pad_sequences(input,padding='post',maxlen=sent_length)\n",
    "dim = 10\n",
    "model =Sequential()\n",
    "model.add(Embedding(voc_size,dim,input_length=sent_length))\n",
    "model.compile('adam','mse')\n",
    "model.summary()\n",
    "x = model.predict(embedded_docs)\n",
    "rows = x.shape[0] \n",
    "cols = x.shape[1] * x.shape[2]\n",
    "x = x.reshape(rows,cols)\n",
    "from sklearn.model_selection import train_test_split\n",
    "x_train , x_test , y_train , y_test = train_test_split(x,y,test_size=0.25,random_state=42)"
   ]
  },
  {
   "cell_type": "code",
   "execution_count": 2,
   "id": "c657a9ac-9177-4621-9bbf-62243d6e1ef5",
   "metadata": {},
   "outputs": [],
   "source": [
    "from sklearn.naive_bayes import GaussianNB, MultinomialNB, BernoulliNB\n",
    "from sklearn.metrics import accuracy_score, classification_report, confusion_matrix"
   ]
  },
  {
   "cell_type": "code",
   "execution_count": 3,
   "id": "e9001cf5-c8f2-4079-8ee9-5655dde10c95",
   "metadata": {},
   "outputs": [],
   "source": [
    "gaussian_nb = GaussianNB()\n",
    "gaussian_nb.fit(x_train, y_train)\n",
    "y_pred_gaussian = gaussian_nb.predict(x_test)"
   ]
  },
  {
   "cell_type": "code",
   "execution_count": 4,
   "id": "12b3726d-efa4-49be-af2f-3e5d66309f87",
   "metadata": {},
   "outputs": [
    {
     "name": "stdout",
     "output_type": "stream",
     "text": [
      "Gaussian Naive Bayes:\n",
      "Accuracy: 0.468975468975469\n",
      "Classification Report:\n",
      "               precision    recall  f1-score   support\n",
      "\n",
      "           0       0.56      0.27      0.37       232\n",
      "           1       0.61      0.27      0.37       231\n",
      "           2       0.42      0.87      0.56       230\n",
      "\n",
      "    accuracy                           0.47       693\n",
      "   macro avg       0.53      0.47      0.43       693\n",
      "weighted avg       0.53      0.47      0.43       693\n",
      "\n",
      "Confusion Matrix:\n",
      " [[ 63  30 139]\n",
      " [ 30  62 139]\n",
      " [ 20  10 200]]\n",
      "------------------------------\n"
     ]
    }
   ],
   "source": [
    "print(\"Gaussian Naive Bayes:\")\n",
    "print(\"Accuracy:\", accuracy_score(y_test, y_pred_gaussian))\n",
    "print(\"Classification Report:\\n\", classification_report(y_test, y_pred_gaussian))\n",
    "print(\"Confusion Matrix:\\n\", confusion_matrix(y_test, y_pred_gaussian))\n",
    "print(\"-\" * 30)"
   ]
  },
  {
   "cell_type": "code",
   "execution_count": 5,
   "id": "c2811c3d-3038-4716-910a-9a7b651dccc3",
   "metadata": {},
   "outputs": [
    {
     "name": "stdout",
     "output_type": "stream",
     "text": [
      "Bernoulli Naive Bayes:\n",
      "Accuracy: 0.5425685425685426\n",
      "Classification Report:\n",
      "               precision    recall  f1-score   support\n",
      "\n",
      "           0       0.79      0.41      0.54       232\n",
      "           1       0.58      0.41      0.48       231\n",
      "           2       0.45      0.81      0.58       230\n",
      "\n",
      "    accuracy                           0.54       693\n",
      "   macro avg       0.61      0.54      0.53       693\n",
      "weighted avg       0.61      0.54      0.53       693\n",
      "\n",
      "Confusion Matrix:\n",
      " [[ 94  45  93]\n",
      " [  5  95 131]\n",
      " [ 20  23 187]]\n",
      "------------------------------\n"
     ]
    }
   ],
   "source": [
    "bernoulli_nb = BernoulliNB()\n",
    "bernoulli_nb.fit(x_train > 0, y_train) # Treat non-zero as present (1), zero as absent (0)\n",
    "y_pred_bernoulli = bernoulli_nb.predict(x_test > 0)\n",
    "\n",
    "print(\"Bernoulli Naive Bayes:\")\n",
    "print(\"Accuracy:\", accuracy_score(y_test, y_pred_bernoulli))\n",
    "print(\"Classification Report:\\n\", classification_report(y_test, y_pred_bernoulli))\n",
    "print(\"Confusion Matrix:\\n\", confusion_matrix(y_test, y_pred_bernoulli))\n",
    "print(\"-\" * 30)"
   ]
  },
  {
   "cell_type": "code",
   "execution_count": null,
   "id": "e48e5f5d-57e4-4a5d-9cd0-22a0bdee06c9",
   "metadata": {},
   "outputs": [],
   "source": []
  }
 ],
 "metadata": {
  "kernelspec": {
   "display_name": "Python 3 (ipykernel)",
   "language": "python",
   "name": "python3"
  },
  "language_info": {
   "codemirror_mode": {
    "name": "ipython",
    "version": 3
   },
   "file_extension": ".py",
   "mimetype": "text/x-python",
   "name": "python",
   "nbconvert_exporter": "python",
   "pygments_lexer": "ipython3",
   "version": "3.11.5"
  }
 },
 "nbformat": 4,
 "nbformat_minor": 5
}
