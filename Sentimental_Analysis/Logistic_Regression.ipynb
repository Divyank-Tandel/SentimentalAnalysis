{
 "cells": [
  {
   "cell_type": "code",
   "execution_count": 1,
   "id": "0c3c02b8-6123-4b7f-83ca-26b28c4ab8e8",
   "metadata": {},
   "outputs": [
    {
     "name": "stdout",
     "output_type": "stream",
     "text": [
      "Model: \"sequential\"\n",
      "_________________________________________________________________\n",
      " Layer (type)                Output Shape              Param #   \n",
      "=================================================================\n",
      " embedding (Embedding)       (None, 15, 10)            100000    \n",
      "                                                                 \n",
      "=================================================================\n",
      "Total params: 100000 (390.62 KB)\n",
      "Trainable params: 100000 (390.62 KB)\n",
      "Non-trainable params: 0 (0.00 Byte)\n",
      "_________________________________________________________________\n",
      "87/87 [==============================] - 0s 1ms/step\n"
     ]
    }
   ],
   "source": [
    "import numpy as np\n",
    "import pandas as pd\n",
    "import matplotlib.pyplot as plt\n",
    "import seaborn as sns\n",
    "import random\n",
    "import nltk\n",
    "import tensorflow as tf\n",
    "import os\n",
    "import string\n",
    "import re\n",
    "data = pd.read_excel('sentence_past_present_future.xlsx')\n",
    "y = data['Categorie']\n",
    "from sklearn.preprocessing import LabelEncoder\n",
    "le = LabelEncoder()\n",
    "y = le.fit_transform(y)\n",
    "from nltk.tokenize import word_tokenize\n",
    "from tensorflow.keras.preprocessing.text import one_hot\n",
    "voc_size = 10000\n",
    "input = []\n",
    "for x in data['Sentences']:\n",
    "    val = word_tokenize(x)\n",
    "    one_rpr = one_hot(str(val),n=voc_size,lower=False,split=None)\n",
    "    input.append(one_rpr)\n",
    "from tensorflow.keras.layers import Embedding\n",
    "from tensorflow.keras.preprocessing.sequence import pad_sequences\n",
    "from tensorflow.keras.models import Sequential\n",
    "sent_length = 15\n",
    "embedded_docs = pad_sequences(input,padding='post',maxlen=sent_length)\n",
    "dim = 10\n",
    "model =Sequential()\n",
    "model.add(Embedding(voc_size,dim,input_length=sent_length))\n",
    "model.compile('adam','mse')\n",
    "model.summary()\n",
    "x = model.predict(embedded_docs)\n",
    "rows = x.shape[0] \n",
    "cols = x.shape[1] * x.shape[2]\n",
    "x = x.reshape(rows,cols)\n",
    "from sklearn.model_selection import train_test_split\n",
    "x_train , x_test , y_train , y_test = train_test_split(x,y,test_size=0.25,random_state=42)"
   ]
  },
  {
   "cell_type": "code",
   "execution_count": 2,
   "id": "183d5454-a7e4-4e2a-b804-06e39989e50b",
   "metadata": {},
   "outputs": [],
   "source": [
    "from sklearn.linear_model import LogisticRegression\n",
    "model = LogisticRegression(multi_class='multinomial', solver='lbfgs', random_state=42, max_iter=1000)"
   ]
  },
  {
   "cell_type": "code",
   "execution_count": 3,
   "id": "62f08733-cfae-4f92-b420-cdf4c5137af4",
   "metadata": {},
   "outputs": [
    {
     "data": {
      "text/html": [
       "<style>#sk-container-id-1 {color: black;}#sk-container-id-1 pre{padding: 0;}#sk-container-id-1 div.sk-toggleable {background-color: white;}#sk-container-id-1 label.sk-toggleable__label {cursor: pointer;display: block;width: 100%;margin-bottom: 0;padding: 0.3em;box-sizing: border-box;text-align: center;}#sk-container-id-1 label.sk-toggleable__label-arrow:before {content: \"▸\";float: left;margin-right: 0.25em;color: #696969;}#sk-container-id-1 label.sk-toggleable__label-arrow:hover:before {color: black;}#sk-container-id-1 div.sk-estimator:hover label.sk-toggleable__label-arrow:before {color: black;}#sk-container-id-1 div.sk-toggleable__content {max-height: 0;max-width: 0;overflow: hidden;text-align: left;background-color: #f0f8ff;}#sk-container-id-1 div.sk-toggleable__content pre {margin: 0.2em;color: black;border-radius: 0.25em;background-color: #f0f8ff;}#sk-container-id-1 input.sk-toggleable__control:checked~div.sk-toggleable__content {max-height: 200px;max-width: 100%;overflow: auto;}#sk-container-id-1 input.sk-toggleable__control:checked~label.sk-toggleable__label-arrow:before {content: \"▾\";}#sk-container-id-1 div.sk-estimator input.sk-toggleable__control:checked~label.sk-toggleable__label {background-color: #d4ebff;}#sk-container-id-1 div.sk-label input.sk-toggleable__control:checked~label.sk-toggleable__label {background-color: #d4ebff;}#sk-container-id-1 input.sk-hidden--visually {border: 0;clip: rect(1px 1px 1px 1px);clip: rect(1px, 1px, 1px, 1px);height: 1px;margin: -1px;overflow: hidden;padding: 0;position: absolute;width: 1px;}#sk-container-id-1 div.sk-estimator {font-family: monospace;background-color: #f0f8ff;border: 1px dotted black;border-radius: 0.25em;box-sizing: border-box;margin-bottom: 0.5em;}#sk-container-id-1 div.sk-estimator:hover {background-color: #d4ebff;}#sk-container-id-1 div.sk-parallel-item::after {content: \"\";width: 100%;border-bottom: 1px solid gray;flex-grow: 1;}#sk-container-id-1 div.sk-label:hover label.sk-toggleable__label {background-color: #d4ebff;}#sk-container-id-1 div.sk-serial::before {content: \"\";position: absolute;border-left: 1px solid gray;box-sizing: border-box;top: 0;bottom: 0;left: 50%;z-index: 0;}#sk-container-id-1 div.sk-serial {display: flex;flex-direction: column;align-items: center;background-color: white;padding-right: 0.2em;padding-left: 0.2em;position: relative;}#sk-container-id-1 div.sk-item {position: relative;z-index: 1;}#sk-container-id-1 div.sk-parallel {display: flex;align-items: stretch;justify-content: center;background-color: white;position: relative;}#sk-container-id-1 div.sk-item::before, #sk-container-id-1 div.sk-parallel-item::before {content: \"\";position: absolute;border-left: 1px solid gray;box-sizing: border-box;top: 0;bottom: 0;left: 50%;z-index: -1;}#sk-container-id-1 div.sk-parallel-item {display: flex;flex-direction: column;z-index: 1;position: relative;background-color: white;}#sk-container-id-1 div.sk-parallel-item:first-child::after {align-self: flex-end;width: 50%;}#sk-container-id-1 div.sk-parallel-item:last-child::after {align-self: flex-start;width: 50%;}#sk-container-id-1 div.sk-parallel-item:only-child::after {width: 0;}#sk-container-id-1 div.sk-dashed-wrapped {border: 1px dashed gray;margin: 0 0.4em 0.5em 0.4em;box-sizing: border-box;padding-bottom: 0.4em;background-color: white;}#sk-container-id-1 div.sk-label label {font-family: monospace;font-weight: bold;display: inline-block;line-height: 1.2em;}#sk-container-id-1 div.sk-label-container {text-align: center;}#sk-container-id-1 div.sk-container {/* jupyter's `normalize.less` sets `[hidden] { display: none; }` but bootstrap.min.css set `[hidden] { display: none !important; }` so we also need the `!important` here to be able to override the default hidden behavior on the sphinx rendered scikit-learn.org. See: https://github.com/scikit-learn/scikit-learn/issues/21755 */display: inline-block !important;position: relative;}#sk-container-id-1 div.sk-text-repr-fallback {display: none;}</style><div id=\"sk-container-id-1\" class=\"sk-top-container\"><div class=\"sk-text-repr-fallback\"><pre>LogisticRegression(max_iter=1000, multi_class=&#x27;multinomial&#x27;, random_state=42)</pre><b>In a Jupyter environment, please rerun this cell to show the HTML representation or trust the notebook. <br />On GitHub, the HTML representation is unable to render, please try loading this page with nbviewer.org.</b></div><div class=\"sk-container\" hidden><div class=\"sk-item\"><div class=\"sk-estimator sk-toggleable\"><input class=\"sk-toggleable__control sk-hidden--visually\" id=\"sk-estimator-id-1\" type=\"checkbox\" checked><label for=\"sk-estimator-id-1\" class=\"sk-toggleable__label sk-toggleable__label-arrow\">LogisticRegression</label><div class=\"sk-toggleable__content\"><pre>LogisticRegression(max_iter=1000, multi_class=&#x27;multinomial&#x27;, random_state=42)</pre></div></div></div></div></div>"
      ],
      "text/plain": [
       "LogisticRegression(max_iter=1000, multi_class='multinomial', random_state=42)"
      ]
     },
     "execution_count": 3,
     "metadata": {},
     "output_type": "execute_result"
    }
   ],
   "source": [
    "model.fit(x_train, y_train)"
   ]
  },
  {
   "cell_type": "code",
   "execution_count": 4,
   "id": "1c40b2c4-5844-4555-a71c-1644588d2c03",
   "metadata": {},
   "outputs": [
    {
     "data": {
      "text/plain": [
       "array([[-1.17628726e+00,  1.24389930e+00,  5.57148173e-01,\n",
       "         3.27721864e-01,  2.24072045e-01,  1.16421082e+00,\n",
       "         4.91213182e-01, -1.73601102e-01,  5.95890754e-01,\n",
       "         7.69588909e-01,  3.33183128e-01,  1.84413810e+00,\n",
       "        -4.04278839e+00, -4.30159837e+00,  2.80382065e+00,\n",
       "         2.08907153e+00,  3.82958940e+00, -6.68605340e-01,\n",
       "         3.75917940e+00, -6.39223646e+00, -7.42880504e-01,\n",
       "         9.14415427e-01,  7.28928349e-01, -3.22762220e-01,\n",
       "        -1.26350039e+00, -3.66931328e-01,  1.39592957e+00,\n",
       "         7.98388642e-01,  2.11780183e+00, -3.20047599e+00,\n",
       "        -7.81251819e-01,  2.44257677e-02, -1.70756007e-01,\n",
       "        -4.27949558e-01,  3.30008298e-01, -5.85718239e-01,\n",
       "         9.96355990e-01,  1.28172173e+00,  5.51819017e-01,\n",
       "        -9.65275497e-02, -9.68296975e-02,  1.29283316e-01,\n",
       "         1.40017828e-01, -5.76528381e-01,  1.33568978e-03,\n",
       "        -1.36864139e+00,  1.13026080e+00,  3.68616978e-01,\n",
       "         7.78798390e-01, -5.68300075e-01, -8.96628703e-01,\n",
       "        -2.48597188e-01, -4.34979795e-01, -1.05228221e+00,\n",
       "         6.84729415e-01, -2.22995291e-01,  9.18608862e-01,\n",
       "         1.02911632e+00,  5.08291177e-02, -6.38901938e-01,\n",
       "        -5.67682288e-01,  3.01955867e-01,  1.45644795e-01,\n",
       "        -9.39783138e-01,  4.72387646e-01,  2.64480299e-01,\n",
       "        -6.67808652e-02,  5.60168955e-01, -4.00636315e-01,\n",
       "        -3.39483421e-01, -4.40679310e-01,  6.58814636e-01,\n",
       "        -1.04689556e-01, -5.68537586e-01, -9.04051300e-02,\n",
       "        -3.64627738e-01,  4.53065870e-01,  6.34404718e-01,\n",
       "        -8.94492892e-01, -7.93478260e-01, -4.58957339e-01,\n",
       "        -6.90469363e-01,  1.88717912e-01, -1.10246723e+00,\n",
       "         4.91069247e-01, -4.74475532e-02, -2.48656851e-01,\n",
       "         1.01872356e+00, -4.53456185e-01,  1.71455185e-01,\n",
       "        -6.62170120e-04, -4.07789020e-01, -1.44605668e-01,\n",
       "        -2.70951518e-01,  9.63707167e-03, -4.28194858e-01,\n",
       "        -2.26547153e-03,  6.83822387e-01, -5.60659834e-01,\n",
       "        -4.17105146e-01, -4.10890075e-01,  7.82833948e-03,\n",
       "        -4.41577372e-02, -1.85821159e-01,  2.51880491e-01,\n",
       "        -2.69779322e-01,  1.99181474e-01,  3.84798320e-01,\n",
       "        -4.03646573e-02, -3.10106373e-02, -1.44285619e-01,\n",
       "        -2.95566461e-01,  1.45879708e-01, -2.54022961e-01,\n",
       "         2.76923919e-03, -5.63470307e-01,  3.60447105e-01,\n",
       "        -3.13675802e-02, -2.77026248e-01, -5.46116346e-02,\n",
       "        -6.26913041e-02, -3.12722915e-01, -3.43442309e-02,\n",
       "         3.80627365e-02, -2.03802461e-01, -2.30190692e-01,\n",
       "        -7.36241406e-02, -3.11359076e-01, -1.80896915e-01,\n",
       "         2.44105347e-01, -2.36669641e-01,  3.58350833e-01,\n",
       "        -1.77015929e-02,  4.36841545e-02,  8.42639578e-02,\n",
       "        -9.83805648e-02,  6.09736051e-01, -6.70828517e-01,\n",
       "         6.61504443e-02,  2.38829462e-01,  2.75194350e-03,\n",
       "         4.53603647e-01,  1.08543034e-01,  3.69960414e-01,\n",
       "         1.50402377e-01,  2.18584539e-01,  4.97260427e-01,\n",
       "        -4.32137989e-01, -1.37481201e-01, -1.26678253e-01],\n",
       "       [-2.97365956e-01, -2.40532470e-01, -1.85805016e-01,\n",
       "        -7.27243365e-01,  3.46722691e-01,  3.37786418e-01,\n",
       "         2.53564143e-01, -2.68780645e-01,  3.95328842e-01,\n",
       "        -3.06322870e-01,  8.54885192e-01,  3.35065099e-01,\n",
       "         1.99073754e+00,  2.21534445e+00, -3.01306670e+00,\n",
       "        -1.02338378e+00, -2.05311732e+00,  4.56199798e-01,\n",
       "        -1.98675692e+00,  5.43716780e+00,  1.86225577e-01,\n",
       "        -7.73852709e-01,  8.62757216e-02,  1.10088343e+00,\n",
       "         7.55473373e-01, -3.49389978e-01, -8.68602176e-01,\n",
       "        -4.86724241e-02, -1.67528400e+00,  2.31391533e+00,\n",
       "         8.05939711e-01, -6.97182977e-01,  6.18584518e-01,\n",
       "         2.02992763e-01, -5.08845538e-01,  7.09579873e-01,\n",
       "        -6.05222783e-01,  3.26087562e-01, -1.02746857e+00,\n",
       "         3.40193708e-01,  9.68017873e-01,  2.11737135e-01,\n",
       "        -1.14262185e-02,  6.35316935e-01,  3.07133736e-01,\n",
       "         1.31889940e+00, -1.79675731e+00, -1.23560515e-01,\n",
       "        -6.70054964e-01, -1.72774280e-01,  1.14168403e+00,\n",
       "        -1.71036785e-01,  3.88897891e-01, -3.34482770e-01,\n",
       "        -3.31715621e-01,  2.73311963e-01, -6.41620140e-01,\n",
       "         2.25751924e-01,  1.91631804e-01,  6.69774320e-01,\n",
       "         4.29501802e-01, -5.08324895e-01, -4.85983600e-02,\n",
       "        -7.36614501e-01,  1.55266397e-01,  1.64165965e-02,\n",
       "        -6.58653862e-01,  7.03597657e-01, -3.04060697e-01,\n",
       "         8.00949172e-01,  8.74465898e-01, -9.00843524e-01,\n",
       "         3.72644408e-01, -7.28778438e-01,  4.21208402e-01,\n",
       "         6.04154762e-01, -1.16430661e+00,  9.14381718e-01,\n",
       "         4.84491399e-01,  1.03452713e+00,  2.93682139e-01,\n",
       "         2.61994915e-01,  3.36765580e-01, -7.71357089e-02,\n",
       "        -8.52541481e-02,  5.50225109e-01, -4.03624317e-01,\n",
       "         2.42671302e-01, -7.88078660e-03,  2.83098405e-01,\n",
       "         4.93996620e-01, -6.89246735e-01,  3.57840209e-01,\n",
       "        -9.76678520e-01,  3.15457645e-01,  4.19940578e-01,\n",
       "        -1.04570799e+00,  6.91245519e-01,  2.06056715e-01,\n",
       "         5.92334064e-01,  4.76447334e-01, -4.71464636e-01,\n",
       "        -5.55349829e-02, -8.78522898e-01, -4.49745330e-01,\n",
       "         2.35208635e-01, -8.48807951e-01,  5.54777741e-01,\n",
       "        -1.24872418e-02,  1.51608686e-01,  3.72047038e-01,\n",
       "        -3.27985293e-01,  1.51633360e-01, -2.38500540e-01,\n",
       "         2.04371534e-02,  6.26423140e-01, -6.49803285e-01,\n",
       "         9.88488042e-01, -9.60778491e-03,  3.53769772e-01,\n",
       "         2.51962203e-01,  1.46563703e-01,  3.74112568e-02,\n",
       "        -3.56674685e-01,  7.00966266e-02,  2.72276799e-01,\n",
       "        -1.52471462e-01,  6.28310286e-01, -2.40649187e-02,\n",
       "        -3.11980954e-01,  2.39912423e-01, -4.81962471e-01,\n",
       "         7.62384712e-02, -5.67343716e-01, -6.24738726e-02,\n",
       "        -1.02561466e-01, -9.83532143e-01,  9.80640780e-01,\n",
       "        -1.06822683e-01, -1.46509391e-02, -3.51316402e-03,\n",
       "        -6.63276233e-01, -1.57233757e-01, -5.38883402e-01,\n",
       "        -2.20562555e-01, -3.17270451e-01, -7.27567646e-01,\n",
       "         6.31416776e-01,  2.00293141e-01,  1.83042962e-01],\n",
       "       [ 1.47365321e+00, -1.00336683e+00, -3.71343157e-01,\n",
       "         3.99521501e-01, -5.70794736e-01, -1.50199724e+00,\n",
       "        -7.44777325e-01,  4.42381747e-01, -9.91219596e-01,\n",
       "        -4.63266039e-01, -1.18806832e+00, -2.17920320e+00,\n",
       "         2.05205086e+00,  2.08625391e+00,  2.09246058e-01,\n",
       "        -1.06568775e+00, -1.77647209e+00,  2.12405543e-01,\n",
       "        -1.77242248e+00,  9.55068667e-01,  5.56654927e-01,\n",
       "        -1.40562718e-01, -8.15204071e-01, -7.78121207e-01,\n",
       "         5.08027015e-01,  7.16321306e-01, -5.27327397e-01,\n",
       "        -7.49716218e-01, -4.42517836e-01,  8.86560665e-01,\n",
       "        -2.46878923e-02,  6.72757209e-01, -4.47828511e-01,\n",
       "         2.24956796e-01,  1.78837240e-01, -1.23861635e-01,\n",
       "        -3.91133207e-01, -1.60780929e+00,  4.75649556e-01,\n",
       "        -2.43666159e-01, -8.71188175e-01, -3.41020451e-01,\n",
       "        -1.28591609e-01, -5.87885537e-02, -3.08469426e-01,\n",
       "         4.97419928e-02,  6.66496511e-01, -2.45056462e-01,\n",
       "        -1.08743426e-01,  7.41074355e-01, -2.45055329e-01,\n",
       "         4.19633973e-01,  4.60819046e-02,  1.38676498e+00,\n",
       "        -3.53013794e-01, -5.03166717e-02, -2.76988721e-01,\n",
       "        -1.25486824e+00, -2.42460922e-01, -3.08723818e-02,\n",
       "         1.38180486e-01,  2.06369028e-01, -9.70464348e-02,\n",
       "         1.67639764e+00, -6.27654044e-01, -2.80896895e-01,\n",
       "         7.25434727e-01, -1.26376661e+00,  7.04697012e-01,\n",
       "        -4.61465751e-01, -4.33786588e-01,  2.42028888e-01,\n",
       "        -2.67954852e-01,  1.29731602e+00, -3.30803272e-01,\n",
       "        -2.39527024e-01,  7.11240743e-01, -1.54878644e+00,\n",
       "         4.10001492e-01, -2.41048870e-01,  1.65275200e-01,\n",
       "         4.28474448e-01, -5.25483491e-01,  1.17960293e+00,\n",
       "        -4.05815099e-01, -5.02777556e-01,  6.52281168e-01,\n",
       "        -1.26139487e+00,  4.61336971e-01, -4.54553591e-01,\n",
       "        -4.93334450e-01,  1.09703575e+00, -2.13234541e-01,\n",
       "         1.24763004e+00, -3.25094717e-01,  8.25428066e-03,\n",
       "         1.04797346e+00, -1.37506791e+00,  3.54603120e-01,\n",
       "        -1.75228918e-01, -6.55572596e-02,  4.63636297e-01,\n",
       "         9.96927201e-02,  1.06434406e+00,  1.97864839e-01,\n",
       "         3.45706864e-02,  6.49626477e-01, -9.39576060e-01,\n",
       "         5.28518991e-02, -1.20598048e-01, -2.27761419e-01,\n",
       "         6.23551753e-01, -2.97513068e-01,  4.92523500e-01,\n",
       "        -2.32063926e-02, -6.29528331e-02,  2.89356180e-01,\n",
       "        -9.57120462e-01,  2.86634033e-01, -2.99158138e-01,\n",
       "        -1.89270899e-01,  1.66159212e-01, -3.06702589e-03,\n",
       "         3.18611949e-01,  1.33705834e-01, -4.20861065e-02,\n",
       "         2.26095603e-01, -3.16951211e-01,  2.04961834e-01,\n",
       "         6.78756078e-02, -3.24278141e-03,  1.23611638e-01,\n",
       "        -5.85368783e-02,  5.23659562e-01, -2.17900852e-02,\n",
       "         2.00942031e-01,  3.73796092e-01, -3.09812263e-01,\n",
       "         4.06722384e-02, -2.24178522e-01,  7.61220519e-04,\n",
       "         2.09672587e-01,  4.86907237e-02,  1.68922987e-01,\n",
       "         7.01601782e-02,  9.86859120e-02,  2.30307220e-01,\n",
       "        -1.99278787e-01, -6.28119396e-02, -5.63647088e-02]])"
      ]
     },
     "execution_count": 4,
     "metadata": {},
     "output_type": "execute_result"
    }
   ],
   "source": [
    "model.coef_"
   ]
  },
  {
   "cell_type": "code",
   "execution_count": 5,
   "id": "82e1be46-9b35-4317-b2ae-9be81d6521f6",
   "metadata": {},
   "outputs": [
    {
     "data": {
      "text/plain": [
       "array([-0.25258559,  0.67913028, -0.42654468])"
      ]
     },
     "execution_count": 5,
     "metadata": {},
     "output_type": "execute_result"
    }
   ],
   "source": [
    "model.intercept_"
   ]
  },
  {
   "cell_type": "code",
   "execution_count": 6,
   "id": "5ad353ec-8792-43f3-ac8f-d3e45efaad81",
   "metadata": {},
   "outputs": [
    {
     "data": {
      "text/plain": [
       "0.6984126984126984"
      ]
     },
     "execution_count": 6,
     "metadata": {},
     "output_type": "execute_result"
    }
   ],
   "source": [
    "model.score(x_test,y_test)"
   ]
  },
  {
   "cell_type": "code",
   "execution_count": 10,
   "id": "ad8ea496-d2d0-4e71-8b71-af2305273298",
   "metadata": {},
   "outputs": [
    {
     "data": {
      "text/plain": [
       "0.6979768786127167"
      ]
     },
     "execution_count": 10,
     "metadata": {},
     "output_type": "execute_result"
    }
   ],
   "source": [
    "model.score(x_train,y_train)"
   ]
  },
  {
   "cell_type": "code",
   "execution_count": 7,
   "id": "2a89fb1b-387c-4ec8-a4da-2ea7e92f735c",
   "metadata": {},
   "outputs": [],
   "source": [
    "from sklearn.metrics import accuracy_score , confusion_matrix , precision_score , recall_score , f1_score , roc_auc_score\n",
    "def Evaluation_metrics(actual,pred):\n",
    "    accuracy_sco = accuracy_score(actual,pred)\n",
    "    confusion_mat = confusion_matrix(actual,pred)\n",
    "    precision_sco = precision_score(actual,pred,average='macro')\n",
    "    recall_sco = recall_score(actual,pred,average='macro')\n",
    "    f1_sco = f1_score(actual,pred,average='macro')\n",
    "    return accuracy_sco,confusion_mat,precision_sco,recall_sco,f1_sco"
   ]
  },
  {
   "cell_type": "code",
   "execution_count": 8,
   "id": "a64856fd-92d5-43b9-9192-55f4d2dfa221",
   "metadata": {},
   "outputs": [],
   "source": [
    "predicted_val = model.predict(x_test)"
   ]
  },
  {
   "cell_type": "code",
   "execution_count": 9,
   "id": "cae7cc32-ef16-406d-8012-c6882ed7a66f",
   "metadata": {},
   "outputs": [
    {
     "data": {
      "text/plain": [
       "(0.6984126984126984,\n",
       " array([[178,  26,  28],\n",
       "        [ 15, 134,  82],\n",
       "        [ 32,  26, 172]], dtype=int64),\n",
       " 0.7071567655507257,\n",
       " 0.6983846821178156,\n",
       " 0.6978514289225076)"
      ]
     },
     "execution_count": 9,
     "metadata": {},
     "output_type": "execute_result"
    }
   ],
   "source": [
    "Evaluation_metrics(y_test,predicted_val)"
   ]
  },
  {
   "cell_type": "code",
   "execution_count": null,
   "id": "fbb8c4c8-152f-4e65-9504-6f4010984344",
   "metadata": {},
   "outputs": [],
   "source": []
  },
  {
   "cell_type": "code",
   "execution_count": null,
   "id": "8b46a936-6890-413a-ab2f-bf7885a24162",
   "metadata": {},
   "outputs": [],
   "source": []
  }
 ],
 "metadata": {
  "kernelspec": {
   "display_name": "Python 3 (ipykernel)",
   "language": "python",
   "name": "python3"
  },
  "language_info": {
   "codemirror_mode": {
    "name": "ipython",
    "version": 3
   },
   "file_extension": ".py",
   "mimetype": "text/x-python",
   "name": "python",
   "nbconvert_exporter": "python",
   "pygments_lexer": "ipython3",
   "version": "3.11.5"
  }
 },
 "nbformat": 4,
 "nbformat_minor": 5
}
