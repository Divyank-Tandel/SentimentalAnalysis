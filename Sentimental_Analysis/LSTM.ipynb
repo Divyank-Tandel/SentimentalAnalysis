{
 "cells": [
  {
   "cell_type": "code",
   "execution_count": 1,
   "id": "f9cbfcb7-b1e2-41f3-a410-8e94a8f7e473",
   "metadata": {},
   "outputs": [
    {
     "name": "stdout",
     "output_type": "stream",
     "text": [
      "1 2 0\n",
      "Model: \"sequential\"\n",
      "_________________________________________________________________\n",
      " Layer (type)                Output Shape              Param #   \n",
      "=================================================================\n",
      " embedding (Embedding)       (None, 15, 10)            100000    \n",
      "                                                                 \n",
      "=================================================================\n",
      "Total params: 100000 (390.62 KB)\n",
      "Trainable params: 100000 (390.62 KB)\n",
      "Non-trainable params: 0 (0.00 Byte)\n",
      "_________________________________________________________________\n",
      "87/87 [==============================] - 0s 987us/step\n",
      "(2769, 3)\n",
      "(2076, 15, 10)\n",
      "(2076, 3)\n"
     ]
    }
   ],
   "source": [
    "import numpy as np\n",
    "import pandas as pd\n",
    "import matplotlib.pyplot as plt\n",
    "import seaborn as sns\n",
    "import random\n",
    "import nltk\n",
    "import tensorflow as tf\n",
    "import os\n",
    "import string\n",
    "import re\n",
    "import warnings\n",
    "warnings.simplefilter(\"ignore\")\n",
    "import tensorflow as tf\n",
    "from tensorflow.keras.models import Sequential\n",
    "from tensorflow.keras.layers import SimpleRNN, Dense\n",
    "from tensorflow.keras.utils import to_categorical\n",
    "from tensorflow.keras.layers import LSTM\n",
    "data = pd.read_excel('sentence_past_present_future.xlsx')\n",
    "y = data['Categorie']\n",
    "from sklearn.preprocessing import LabelEncoder\n",
    "le = LabelEncoder()\n",
    "y = le.fit_transform(y)\n",
    "print(y[0],y[1000],y[2700])\n",
    "num_classes = len(np.unique(y))\n",
    "one_hot_labels = to_categorical(y, num_classes=num_classes)\n",
    "y = np.array(one_hot_labels)\n",
    "from nltk.tokenize import word_tokenize\n",
    "from tensorflow.keras.preprocessing.text import one_hot\n",
    "voc_size = 10000\n",
    "input = []\n",
    "for x in data['Sentences']:\n",
    "    val = word_tokenize(x)\n",
    "    one_rpr = one_hot(str(val),n=voc_size,lower=False,split=None)\n",
    "    input.append(one_rpr)\n",
    "from tensorflow.keras.layers import Embedding\n",
    "from tensorflow.keras.preprocessing.sequence import pad_sequences\n",
    "from tensorflow.keras.models import Sequential\n",
    "sent_length = 15\n",
    "embedded_docs = pad_sequences(input,padding='post',maxlen=sent_length)\n",
    "dim = 10\n",
    "model =Sequential()\n",
    "model.add(Embedding(voc_size,dim,input_length=sent_length))\n",
    "model.compile('adam','mse')\n",
    "model.summary()\n",
    "x = model.predict(embedded_docs)\n",
    "print(y.shape)\n",
    "# rows = x.shape[0] \n",
    "# cols = x.shape[1] * x.shape[2]\n",
    "# x = x.reshape(rows,cols)\n",
    "from sklearn.model_selection import train_test_split\n",
    "x_train , x_test , y_train , y_test = train_test_split(x,y,test_size=0.25,random_state=42)\n",
    "print(x_train.shape)\n",
    "print(y_train.shape)"
   ]
  },
  {
   "cell_type": "code",
   "execution_count": 98,
   "id": "f203cee9-2b7d-4f6a-948d-ac55a66a9c89",
   "metadata": {},
   "outputs": [],
   "source": [
    "lstm = Sequential([\n",
    "     #Embedding(input_dim=vocab_size, output_dim=embedding_dim, input_length=max_length), # good for embedding\n",
    "    LSTM(units=128,input_shape=(15,10),return_sequences= True),\n",
    "    LSTM(units=64,activation='relu',return_sequences=True),\n",
    "    LSTM(units=32,activation='relu'),\n",
    "    Dense(units=3, activation='softmax')\n",
    "])"
   ]
  },
  {
   "cell_type": "code",
   "execution_count": 99,
   "id": "841b1b6e-d3e1-427d-8d9e-b981af8cba46",
   "metadata": {},
   "outputs": [],
   "source": [
    "lstm.compile(\n",
    "    optimizer='adam',\n",
    "    loss='categorical_crossentropy',\n",
    "    metrics=['accuracy']\n",
    ")"
   ]
  },
  {
   "cell_type": "code",
   "execution_count": 100,
   "id": "5fed4dba-2c57-49db-909a-8ea584aa3826",
   "metadata": {},
   "outputs": [
    {
     "name": "stdout",
     "output_type": "stream",
     "text": [
      "Model: \"sequential_14\"\n",
      "_________________________________________________________________\n",
      " Layer (type)                Output Shape              Param #   \n",
      "=================================================================\n",
      " lstm_28 (LSTM)              (None, 15, 128)           71168     \n",
      "                                                                 \n",
      " lstm_29 (LSTM)              (None, 15, 64)            49408     \n",
      "                                                                 \n",
      " lstm_30 (LSTM)              (None, 32)                12416     \n",
      "                                                                 \n",
      " dense_15 (Dense)            (None, 3)                 99        \n",
      "                                                                 \n",
      "=================================================================\n",
      "Total params: 133091 (519.89 KB)\n",
      "Trainable params: 133091 (519.89 KB)\n",
      "Non-trainable params: 0 (0.00 Byte)\n",
      "_________________________________________________________________\n"
     ]
    }
   ],
   "source": [
    "lstm.summary()"
   ]
  },
  {
   "cell_type": "code",
   "execution_count": 101,
   "id": "fc94e5d0-d813-44d3-8f3a-1b68c7c0926f",
   "metadata": {},
   "outputs": [
    {
     "name": "stdout",
     "output_type": "stream",
     "text": [
      "Epoch 1/100\n",
      "65/65 [==============================] - 6s 20ms/step - loss: 1.0856 - accuracy: 0.3979\n",
      "Epoch 2/100\n",
      "65/65 [==============================] - 1s 20ms/step - loss: 1.0580 - accuracy: 0.4398\n",
      "Epoch 3/100\n",
      "65/65 [==============================] - 1s 20ms/step - loss: 1.0439 - accuracy: 0.4504\n",
      "Epoch 4/100\n",
      "65/65 [==============================] - 1s 20ms/step - loss: 1.0204 - accuracy: 0.4894\n",
      "Epoch 5/100\n",
      "65/65 [==============================] - 1s 20ms/step - loss: 0.9881 - accuracy: 0.5352\n",
      "Epoch 6/100\n",
      "65/65 [==============================] - 1s 21ms/step - loss: 0.8961 - accuracy: 0.6108\n",
      "Epoch 7/100\n",
      "65/65 [==============================] - 1s 22ms/step - loss: 0.8062 - accuracy: 0.6546\n",
      "Epoch 8/100\n",
      "65/65 [==============================] - 1s 20ms/step - loss: 0.7951 - accuracy: 0.6590\n",
      "Epoch 9/100\n",
      "65/65 [==============================] - 1s 20ms/step - loss: 0.7639 - accuracy: 0.6643\n",
      "Epoch 10/100\n",
      "65/65 [==============================] - 1s 20ms/step - loss: 0.7412 - accuracy: 0.6802\n",
      "Epoch 11/100\n",
      "65/65 [==============================] - 1s 22ms/step - loss: 0.7304 - accuracy: 0.6806\n",
      "Epoch 12/100\n",
      "65/65 [==============================] - 1s 21ms/step - loss: 0.6976 - accuracy: 0.6970\n",
      "Epoch 13/100\n",
      "65/65 [==============================] - 1s 20ms/step - loss: 0.7022 - accuracy: 0.6912\n",
      "Epoch 14/100\n",
      "65/65 [==============================] - 1s 20ms/step - loss: 0.6629 - accuracy: 0.7071\n",
      "Epoch 15/100\n",
      "65/65 [==============================] - 1s 20ms/step - loss: 0.6534 - accuracy: 0.7168\n",
      "Epoch 16/100\n",
      "65/65 [==============================] - 1s 20ms/step - loss: 0.6387 - accuracy: 0.7187\n",
      "Epoch 17/100\n",
      "65/65 [==============================] - 1s 20ms/step - loss: 0.6261 - accuracy: 0.7283\n",
      "Epoch 18/100\n",
      "65/65 [==============================] - 1s 20ms/step - loss: 0.6454 - accuracy: 0.7259\n",
      "Epoch 19/100\n",
      "65/65 [==============================] - 1s 21ms/step - loss: 0.6211 - accuracy: 0.7288\n",
      "Epoch 20/100\n",
      "65/65 [==============================] - 1s 20ms/step - loss: 0.6049 - accuracy: 0.7336\n",
      "Epoch 21/100\n",
      "65/65 [==============================] - 1s 20ms/step - loss: 0.5986 - accuracy: 0.7341\n",
      "Epoch 22/100\n",
      "65/65 [==============================] - 1s 20ms/step - loss: 0.5934 - accuracy: 0.7423\n",
      "Epoch 23/100\n",
      "65/65 [==============================] - 1s 20ms/step - loss: 0.6006 - accuracy: 0.7423\n",
      "Epoch 24/100\n",
      "65/65 [==============================] - 1s 20ms/step - loss: 0.5914 - accuracy: 0.7437\n",
      "Epoch 25/100\n",
      "65/65 [==============================] - 1s 21ms/step - loss: 0.5929 - accuracy: 0.7399\n",
      "Epoch 26/100\n",
      "65/65 [==============================] - 1s 20ms/step - loss: 0.5853 - accuracy: 0.7514\n",
      "Epoch 27/100\n",
      "65/65 [==============================] - 1s 20ms/step - loss: 0.5839 - accuracy: 0.7442\n",
      "Epoch 28/100\n",
      "65/65 [==============================] - 1s 20ms/step - loss: 0.5738 - accuracy: 0.7500\n",
      "Epoch 29/100\n",
      "65/65 [==============================] - 1s 20ms/step - loss: 0.5863 - accuracy: 0.7437\n",
      "Epoch 30/100\n",
      "65/65 [==============================] - 1s 20ms/step - loss: 0.5636 - accuracy: 0.7534\n",
      "Epoch 31/100\n",
      "65/65 [==============================] - 1s 21ms/step - loss: 0.5650 - accuracy: 0.7543\n",
      "Epoch 32/100\n",
      "65/65 [==============================] - 1s 20ms/step - loss: 0.5651 - accuracy: 0.7539\n",
      "Epoch 33/100\n",
      "65/65 [==============================] - 1s 20ms/step - loss: 0.5677 - accuracy: 0.7534\n",
      "Epoch 34/100\n",
      "65/65 [==============================] - 1s 20ms/step - loss: 0.5701 - accuracy: 0.7452\n",
      "Epoch 35/100\n",
      "65/65 [==============================] - 1s 20ms/step - loss: 0.5584 - accuracy: 0.7524\n",
      "Epoch 36/100\n",
      "65/65 [==============================] - 1s 20ms/step - loss: 0.5445 - accuracy: 0.7635\n",
      "Epoch 37/100\n",
      "65/65 [==============================] - 1s 21ms/step - loss: 0.5550 - accuracy: 0.7596\n",
      "Epoch 38/100\n",
      "65/65 [==============================] - 1s 20ms/step - loss: 0.5437 - accuracy: 0.7567\n",
      "Epoch 39/100\n",
      "65/65 [==============================] - 1s 20ms/step - loss: 0.5420 - accuracy: 0.7601\n",
      "Epoch 40/100\n",
      "65/65 [==============================] - 1s 20ms/step - loss: 0.5375 - accuracy: 0.7620\n",
      "Epoch 41/100\n",
      "65/65 [==============================] - 1s 20ms/step - loss: 0.5336 - accuracy: 0.7664\n",
      "Epoch 42/100\n",
      "65/65 [==============================] - 1s 21ms/step - loss: 0.5298 - accuracy: 0.7702\n",
      "Epoch 43/100\n",
      "65/65 [==============================] - 1s 20ms/step - loss: 0.5311 - accuracy: 0.7722\n",
      "Epoch 44/100\n",
      "65/65 [==============================] - 1s 20ms/step - loss: 0.5234 - accuracy: 0.7712\n",
      "Epoch 45/100\n",
      "65/65 [==============================] - 1s 20ms/step - loss: 0.5156 - accuracy: 0.7794\n",
      "Epoch 46/100\n",
      "65/65 [==============================] - 1s 20ms/step - loss: 0.5236 - accuracy: 0.7664\n",
      "Epoch 47/100\n",
      "65/65 [==============================] - 1s 21ms/step - loss: 0.5021 - accuracy: 0.7789\n",
      "Epoch 48/100\n",
      "65/65 [==============================] - 1s 20ms/step - loss: 0.5110 - accuracy: 0.7794\n",
      "Epoch 49/100\n",
      "65/65 [==============================] - 1s 22ms/step - loss: 0.5074 - accuracy: 0.7726\n",
      "Epoch 50/100\n",
      "65/65 [==============================] - 1s 21ms/step - loss: 0.5077 - accuracy: 0.7876\n",
      "Epoch 51/100\n",
      "65/65 [==============================] - 1s 22ms/step - loss: 0.4975 - accuracy: 0.7799\n",
      "Epoch 52/100\n",
      "65/65 [==============================] - 1s 20ms/step - loss: 0.4854 - accuracy: 0.7924\n",
      "Epoch 53/100\n",
      "65/65 [==============================] - 1s 21ms/step - loss: 0.4811 - accuracy: 0.7919\n",
      "Epoch 54/100\n",
      "65/65 [==============================] - 1s 21ms/step - loss: 0.4784 - accuracy: 0.7938\n",
      "Epoch 55/100\n",
      "65/65 [==============================] - 2s 23ms/step - loss: 0.4778 - accuracy: 0.7967\n",
      "Epoch 56/100\n",
      "65/65 [==============================] - 2s 27ms/step - loss: 0.4821 - accuracy: 0.7895\n",
      "Epoch 57/100\n",
      "65/65 [==============================] - 1s 22ms/step - loss: 0.4772 - accuracy: 0.7881\n",
      "Epoch 58/100\n",
      "65/65 [==============================] - 1s 22ms/step - loss: 0.4719 - accuracy: 0.7909\n",
      "Epoch 59/100\n",
      "65/65 [==============================] - 1s 22ms/step - loss: 0.4603 - accuracy: 0.7962\n",
      "Epoch 60/100\n",
      "65/65 [==============================] - 1s 20ms/step - loss: 0.4462 - accuracy: 0.8044\n",
      "Epoch 61/100\n",
      "65/65 [==============================] - 1s 22ms/step - loss: 0.4317 - accuracy: 0.8092\n",
      "Epoch 62/100\n",
      "65/65 [==============================] - 1s 22ms/step - loss: 0.4331 - accuracy: 0.8073\n",
      "Epoch 63/100\n",
      "65/65 [==============================] - 2s 24ms/step - loss: 0.4338 - accuracy: 0.8054\n",
      "Epoch 64/100\n",
      "65/65 [==============================] - 1s 22ms/step - loss: 0.4325 - accuracy: 0.8170\n",
      "Epoch 65/100\n",
      "65/65 [==============================] - 2s 23ms/step - loss: 0.4375 - accuracy: 0.8121\n",
      "Epoch 66/100\n",
      "65/65 [==============================] - 2s 23ms/step - loss: 0.4208 - accuracy: 0.8097\n",
      "Epoch 67/100\n",
      "65/65 [==============================] - 1s 23ms/step - loss: 0.4129 - accuracy: 0.8189\n",
      "Epoch 68/100\n",
      "65/65 [==============================] - 1s 22ms/step - loss: 0.4126 - accuracy: 0.8136\n",
      "Epoch 69/100\n",
      "65/65 [==============================] - 1s 23ms/step - loss: 0.4037 - accuracy: 0.8184\n",
      "Epoch 70/100\n",
      "65/65 [==============================] - 1s 20ms/step - loss: 0.3991 - accuracy: 0.8203\n",
      "Epoch 71/100\n",
      "65/65 [==============================] - 1s 21ms/step - loss: 0.3820 - accuracy: 0.8367\n",
      "Epoch 72/100\n",
      "65/65 [==============================] - 1s 21ms/step - loss: 0.3836 - accuracy: 0.8329\n",
      "Epoch 73/100\n",
      "65/65 [==============================] - 1s 22ms/step - loss: 0.3744 - accuracy: 0.8415\n",
      "Epoch 74/100\n",
      "65/65 [==============================] - 1s 23ms/step - loss: 0.3628 - accuracy: 0.8483\n",
      "Epoch 75/100\n",
      "65/65 [==============================] - 2s 23ms/step - loss: 0.3632 - accuracy: 0.8425\n",
      "Epoch 76/100\n",
      "65/65 [==============================] - 2s 24ms/step - loss: 0.3572 - accuracy: 0.8454\n",
      "Epoch 77/100\n",
      "65/65 [==============================] - 1s 21ms/step - loss: 0.3559 - accuracy: 0.8545\n",
      "Epoch 78/100\n",
      "65/65 [==============================] - 1s 22ms/step - loss: 0.3542 - accuracy: 0.8468\n",
      "Epoch 79/100\n",
      "65/65 [==============================] - 2s 27ms/step - loss: 0.3375 - accuracy: 0.8545\n",
      "Epoch 80/100\n",
      "65/65 [==============================] - 1s 20ms/step - loss: 0.3861 - accuracy: 0.8401\n",
      "Epoch 81/100\n",
      "65/65 [==============================] - 1s 20ms/step - loss: 0.3788 - accuracy: 0.8449\n",
      "Epoch 82/100\n",
      "65/65 [==============================] - 1s 22ms/step - loss: 0.3637 - accuracy: 0.8430\n",
      "Epoch 83/100\n",
      "65/65 [==============================] - 1s 22ms/step - loss: 0.3340 - accuracy: 0.8574\n",
      "Epoch 84/100\n",
      "65/65 [==============================] - 2s 23ms/step - loss: 0.3213 - accuracy: 0.8675\n",
      "Epoch 85/100\n",
      "65/65 [==============================] - 1s 21ms/step - loss: 0.3121 - accuracy: 0.8685\n",
      "Epoch 86/100\n",
      "65/65 [==============================] - 2s 25ms/step - loss: 0.3080 - accuracy: 0.8666\n",
      "Epoch 87/100\n",
      "65/65 [==============================] - 1s 21ms/step - loss: 0.2890 - accuracy: 0.8762\n",
      "Epoch 88/100\n",
      "65/65 [==============================] - 2s 30ms/step - loss: 0.2978 - accuracy: 0.8791\n",
      "Epoch 89/100\n",
      "65/65 [==============================] - 2s 30ms/step - loss: 0.3540 - accuracy: 0.8598\n",
      "Epoch 90/100\n",
      "65/65 [==============================] - 2s 26ms/step - loss: 0.3059 - accuracy: 0.8733\n",
      "Epoch 91/100\n",
      "65/65 [==============================] - 2s 24ms/step - loss: 0.2768 - accuracy: 0.8873\n",
      "Epoch 92/100\n",
      "65/65 [==============================] - 2s 31ms/step - loss: 0.2727 - accuracy: 0.8858\n",
      "Epoch 93/100\n",
      "65/65 [==============================] - 2s 28ms/step - loss: 0.2775 - accuracy: 0.8858\n",
      "Epoch 94/100\n",
      "65/65 [==============================] - 2s 23ms/step - loss: 0.3346 - accuracy: 0.8613\n",
      "Epoch 95/100\n",
      "65/65 [==============================] - 2s 25ms/step - loss: 0.2750 - accuracy: 0.8950\n",
      "Epoch 96/100\n",
      "65/65 [==============================] - 2s 26ms/step - loss: 0.2553 - accuracy: 0.8935\n",
      "Epoch 97/100\n",
      "65/65 [==============================] - 1s 23ms/step - loss: 0.2483 - accuracy: 0.8974\n",
      "Epoch 98/100\n",
      "65/65 [==============================] - 2s 27ms/step - loss: 0.2592 - accuracy: 0.8921\n",
      "Epoch 99/100\n",
      "65/65 [==============================] - 2s 29ms/step - loss: 0.2635 - accuracy: 0.8940\n",
      "Epoch 100/100\n",
      "65/65 [==============================] - 2s 28ms/step - loss: 0.2548 - accuracy: 0.8892\n"
     ]
    },
    {
     "data": {
      "text/plain": [
       "<keras.src.callbacks.History at 0x16394c2ff90>"
      ]
     },
     "execution_count": 101,
     "metadata": {},
     "output_type": "execute_result"
    }
   ],
   "source": [
    "epochs = 100\n",
    "lstm.fit(x_train,y_train, epochs=epochs)"
   ]
  },
  {
   "cell_type": "code",
   "execution_count": 102,
   "id": "8ea1f838-d5c2-4d66-848f-498f88670e89",
   "metadata": {},
   "outputs": [
    {
     "name": "stdout",
     "output_type": "stream",
     "text": [
      "22/22 [==============================] - 1s 8ms/step - loss: 0.6590 - accuracy: 0.7937\n"
     ]
    },
    {
     "data": {
      "text/plain": [
       "[0.6589720249176025, 0.7936508059501648]"
      ]
     },
     "execution_count": 102,
     "metadata": {},
     "output_type": "execute_result"
    }
   ],
   "source": [
    "lstm.evaluate(x_test,y_test)"
   ]
  },
  {
   "cell_type": "code",
   "execution_count": 103,
   "id": "9f95a20e-6b1c-4a85-8abb-dab32a507530",
   "metadata": {},
   "outputs": [],
   "source": [
    "def try_other_sentences(sentence):\n",
    "    voc_size_val = 10000\n",
    "    input_val = [sentence] \n",
    "    out_put = []\n",
    "    for x in input_val:\n",
    "        val = word_tokenize(x)\n",
    "        one_rpr = one_hot(str(val),n=voc_size_val,lower=False,split=None)\n",
    "        out_put.append(one_rpr)\n",
    "    sent_length = 15\n",
    "    embedded_sentence = pad_sequences(out_put,padding='post',maxlen=sent_length) #input- sentence\n",
    "    value_to_pass = model.predict(embedded_sentence) \n",
    "    # rows = value_to_pass.shape[0]\n",
    "    # cols = value_to_pass.shape[1] * value_to_pass.shape[2]\n",
    "    # value_to_pass = value_to_pass.reshape(rows,cols) #coverting test sentence to same shape of 'x' . as we trained on.\n",
    "    return value_to_pass"
   ]
  },
  {
   "cell_type": "code",
   "execution_count": 104,
   "id": "642e7279-f5ab-459a-8e9d-94455b750053",
   "metadata": {},
   "outputs": [
    {
     "name": "stdout",
     "output_type": "stream",
     "text": [
      "1/1 [==============================] - 0s 50ms/step\n"
     ]
    }
   ],
   "source": [
    "value = try_other_sentences('I ate an apple')"
   ]
  },
  {
   "cell_type": "code",
   "execution_count": 105,
   "id": "5db25bb9-0524-4e7f-833e-af8969e13627",
   "metadata": {},
   "outputs": [
    {
     "name": "stdout",
     "output_type": "stream",
     "text": [
      "1/1 [==============================] - 1s 707ms/step\n"
     ]
    }
   ],
   "source": [
    "predictions = lstm.predict(value)"
   ]
  },
  {
   "cell_type": "code",
   "execution_count": 106,
   "id": "e132f026-af55-41ed-988a-42b978283bf6",
   "metadata": {},
   "outputs": [],
   "source": [
    "predict_class = np.argmax(predictions,axis=1)"
   ]
  },
  {
   "cell_type": "code",
   "execution_count": 107,
   "id": "b67acdd0-55a2-4c49-a3cd-84fe27af5a44",
   "metadata": {},
   "outputs": [
    {
     "name": "stdout",
     "output_type": "stream",
     "text": [
      "[[0.0030952  0.88366604 0.11323868]]\n"
     ]
    }
   ],
   "source": [
    "print(predictions)"
   ]
  },
  {
   "cell_type": "code",
   "execution_count": 108,
   "id": "30161ed9-da53-48c1-8f61-f4611136ae44",
   "metadata": {},
   "outputs": [
    {
     "name": "stdout",
     "output_type": "stream",
     "text": [
      "[1]\n"
     ]
    }
   ],
   "source": [
    "print(predict_class) #[1] index for past , [2] index for present , [0] index for future ....if o - past , 1 -present , 2-future"
   ]
  },
  {
   "cell_type": "code",
   "execution_count": 109,
   "id": "edd8c403-72e5-4a60-ad23-b186a1679e87",
   "metadata": {},
   "outputs": [],
   "source": [
    "label_to_index = {\"past\": 1, \"present\": 2,\"future\":0}\n",
    "index_to_label = {v: k for k, v in label_to_index.items()}"
   ]
  },
  {
   "cell_type": "code",
   "execution_count": 110,
   "id": "e84dc54d-8034-4d41-bb1c-eb4e04cc90f6",
   "metadata": {},
   "outputs": [
    {
     "name": "stdout",
     "output_type": "stream",
     "text": [
      "\n",
      "Predicted Original Labels: ['past']\n"
     ]
    }
   ],
   "source": [
    "predicted_labels = [index_to_label[index] for index in predict_class]\n",
    "print(\"\\nPredicted Original Labels:\", predicted_labels)"
   ]
  },
  {
   "cell_type": "code",
   "execution_count": null,
   "id": "42db16b8-8fa7-4d5a-b734-68427519ba02",
   "metadata": {},
   "outputs": [],
   "source": []
  },
  {
   "cell_type": "code",
   "execution_count": null,
   "id": "701d42e5-82cf-40a4-b136-a38d7c2c8595",
   "metadata": {},
   "outputs": [],
   "source": []
  },
  {
   "cell_type": "code",
   "execution_count": null,
   "id": "9fb2f862-fe5b-44a1-b0a6-9c7dc7a6545c",
   "metadata": {},
   "outputs": [],
   "source": []
  }
 ],
 "metadata": {
  "kernelspec": {
   "display_name": "Python 3 (ipykernel)",
   "language": "python",
   "name": "python3"
  },
  "language_info": {
   "codemirror_mode": {
    "name": "ipython",
    "version": 3
   },
   "file_extension": ".py",
   "mimetype": "text/x-python",
   "name": "python",
   "nbconvert_exporter": "python",
   "pygments_lexer": "ipython3",
   "version": "3.11.5"
  }
 },
 "nbformat": 4,
 "nbformat_minor": 5
}
