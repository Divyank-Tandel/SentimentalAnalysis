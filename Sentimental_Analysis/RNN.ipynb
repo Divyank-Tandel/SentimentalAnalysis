{
 "cells": [
  {
   "cell_type": "code",
   "execution_count": 1,
   "id": "66c55589-5665-40a1-b33e-a93ec3d667de",
   "metadata": {},
   "outputs": [
    {
     "name": "stdout",
     "output_type": "stream",
     "text": [
      "1 2 0\n",
      "Model: \"sequential\"\n",
      "_________________________________________________________________\n",
      " Layer (type)                Output Shape              Param #   \n",
      "=================================================================\n",
      " embedding (Embedding)       (None, 15, 10)            100000    \n",
      "                                                                 \n",
      "=================================================================\n",
      "Total params: 100000 (390.62 KB)\n",
      "Trainable params: 100000 (390.62 KB)\n",
      "Non-trainable params: 0 (0.00 Byte)\n",
      "_________________________________________________________________\n",
      "87/87 [==============================] - 0s 930us/step\n",
      "(2769, 3)\n",
      "(2076, 15, 10)\n",
      "(2076, 3)\n"
     ]
    }
   ],
   "source": [
    "import numpy as np\n",
    "import pandas as pd\n",
    "import matplotlib.pyplot as plt\n",
    "import seaborn as sns\n",
    "import random\n",
    "import nltk\n",
    "import tensorflow as tf\n",
    "import os\n",
    "import string\n",
    "import re\n",
    "import warnings\n",
    "warnings.simplefilter(\"ignore\")\n",
    "import tensorflow as tf\n",
    "from tensorflow.keras.models import Sequential\n",
    "from tensorflow.keras.layers import SimpleRNN, Dense\n",
    "from tensorflow.keras.utils import to_categorical\n",
    "data = pd.read_excel('sentence_past_present_future.xlsx')\n",
    "y = data['Categorie']\n",
    "from sklearn.preprocessing import LabelEncoder\n",
    "le = LabelEncoder()\n",
    "y = le.fit_transform(y)\n",
    "print(y[0],y[1000],y[2700])\n",
    "num_classes = len(np.unique(y))\n",
    "one_hot_labels = to_categorical(y, num_classes=num_classes)\n",
    "y = np.array(one_hot_labels)\n",
    "from nltk.tokenize import word_tokenize\n",
    "from tensorflow.keras.preprocessing.text import one_hot\n",
    "voc_size = 10000\n",
    "input = []\n",
    "for x in data['Sentences']:\n",
    "    val = word_tokenize(x)\n",
    "    one_rpr = one_hot(str(val),n=voc_size,lower=False,split=None)\n",
    "    input.append(one_rpr)\n",
    "from tensorflow.keras.layers import Embedding\n",
    "from tensorflow.keras.preprocessing.sequence import pad_sequences\n",
    "from tensorflow.keras.models import Sequential\n",
    "sent_length = 15\n",
    "embedded_docs = pad_sequences(input,padding='post',maxlen=sent_length)\n",
    "dim = 10\n",
    "model =Sequential()\n",
    "model.add(Embedding(voc_size,dim,input_length=sent_length))\n",
    "model.compile('adam','mse')\n",
    "model.summary()\n",
    "x = model.predict(embedded_docs)\n",
    "print(y.shape)\n",
    "# rows = x.shape[0] \n",
    "# cols = x.shape[1] * x.shape[2]\n",
    "# x = x.reshape(rows,cols)\n",
    "from sklearn.model_selection import train_test_split\n",
    "x_train , x_test , y_train , y_test = train_test_split(x,y,test_size=0.25,random_state=42)\n",
    "print(x_train.shape)\n",
    "print(y_train.shape)"
   ]
  },
  {
   "cell_type": "code",
   "execution_count": 2,
   "id": "df6a00ae-2f42-49eb-95c4-916d33cb55d2",
   "metadata": {},
   "outputs": [],
   "source": [
    "rnn = Sequential([\n",
    "     #Embedding(input_dim=vocab_size, output_dim=embedding_dim, input_length=max_length), # good for embedding\n",
    "    SimpleRNN(units=128,input_shape=(15,10)),\n",
    "    Dense(units=64,activation='relu'),\n",
    "    Dense(units=3, activation='softmax')\n",
    "])"
   ]
  },
  {
   "cell_type": "code",
   "execution_count": 3,
   "id": "dae79407-513c-45a1-bfe0-3639d1715dbd",
   "metadata": {},
   "outputs": [],
   "source": [
    "rnn.compile(\n",
    "    optimizer='adam',\n",
    "    loss='categorical_crossentropy',\n",
    "    metrics=['accuracy']\n",
    ")"
   ]
  },
  {
   "cell_type": "code",
   "execution_count": 4,
   "id": "5c21527c-cd88-4815-a223-8e7db98bd9ed",
   "metadata": {},
   "outputs": [
    {
     "name": "stdout",
     "output_type": "stream",
     "text": [
      "Model: \"sequential_1\"\n",
      "_________________________________________________________________\n",
      " Layer (type)                Output Shape              Param #   \n",
      "=================================================================\n",
      " simple_rnn (SimpleRNN)      (None, 128)               17792     \n",
      "                                                                 \n",
      " dense (Dense)               (None, 64)                8256      \n",
      "                                                                 \n",
      " dense_1 (Dense)             (None, 3)                 195       \n",
      "                                                                 \n",
      "=================================================================\n",
      "Total params: 26243 (102.51 KB)\n",
      "Trainable params: 26243 (102.51 KB)\n",
      "Non-trainable params: 0 (0.00 Byte)\n",
      "_________________________________________________________________\n"
     ]
    }
   ],
   "source": [
    "rnn.summary()"
   ]
  },
  {
   "cell_type": "code",
   "execution_count": 5,
   "id": "e169f943-e6d8-4f8d-b649-7c357f98b857",
   "metadata": {},
   "outputs": [
    {
     "name": "stdout",
     "output_type": "stream",
     "text": [
      "Epoch 1/100\n",
      "65/65 [==============================] - 2s 4ms/step - loss: 1.0581 - accuracy: 0.4364\n",
      "Epoch 2/100\n",
      "65/65 [==============================] - 0s 4ms/step - loss: 1.0046 - accuracy: 0.5058\n",
      "Epoch 3/100\n",
      "65/65 [==============================] - 0s 4ms/step - loss: 0.9468 - accuracy: 0.5790\n",
      "Epoch 4/100\n",
      "65/65 [==============================] - 0s 4ms/step - loss: 0.8442 - accuracy: 0.6378\n",
      "Epoch 5/100\n",
      "65/65 [==============================] - 0s 4ms/step - loss: 0.8156 - accuracy: 0.6440\n",
      "Epoch 6/100\n",
      "65/65 [==============================] - 0s 4ms/step - loss: 0.7687 - accuracy: 0.6705\n",
      "Epoch 7/100\n",
      "65/65 [==============================] - 0s 4ms/step - loss: 0.7428 - accuracy: 0.6749\n",
      "Epoch 8/100\n",
      "65/65 [==============================] - 0s 4ms/step - loss: 0.7247 - accuracy: 0.6883\n",
      "Epoch 9/100\n",
      "65/65 [==============================] - 0s 4ms/step - loss: 0.6914 - accuracy: 0.6927\n",
      "Epoch 10/100\n",
      "65/65 [==============================] - 0s 4ms/step - loss: 0.6879 - accuracy: 0.6908\n",
      "Epoch 11/100\n",
      "65/65 [==============================] - 0s 4ms/step - loss: 0.6736 - accuracy: 0.7009\n",
      "Epoch 12/100\n",
      "65/65 [==============================] - 0s 4ms/step - loss: 0.6629 - accuracy: 0.7033\n",
      "Epoch 13/100\n",
      "65/65 [==============================] - 0s 4ms/step - loss: 0.6374 - accuracy: 0.7197\n",
      "Epoch 14/100\n",
      "65/65 [==============================] - 0s 4ms/step - loss: 0.6568 - accuracy: 0.7119\n",
      "Epoch 15/100\n",
      "65/65 [==============================] - 0s 4ms/step - loss: 0.6218 - accuracy: 0.7336\n",
      "Epoch 16/100\n",
      "65/65 [==============================] - 0s 4ms/step - loss: 0.6253 - accuracy: 0.7278\n",
      "Epoch 17/100\n",
      "65/65 [==============================] - 0s 4ms/step - loss: 0.6076 - accuracy: 0.7269\n",
      "Epoch 18/100\n",
      "65/65 [==============================] - 0s 4ms/step - loss: 0.5854 - accuracy: 0.7375\n",
      "Epoch 19/100\n",
      "65/65 [==============================] - 0s 4ms/step - loss: 0.5843 - accuracy: 0.7394\n",
      "Epoch 20/100\n",
      "65/65 [==============================] - 0s 4ms/step - loss: 0.5688 - accuracy: 0.7567\n",
      "Epoch 21/100\n",
      "65/65 [==============================] - 0s 4ms/step - loss: 0.5626 - accuracy: 0.7548\n",
      "Epoch 22/100\n",
      "65/65 [==============================] - 0s 4ms/step - loss: 0.5612 - accuracy: 0.7481\n",
      "Epoch 23/100\n",
      "65/65 [==============================] - 0s 4ms/step - loss: 0.5420 - accuracy: 0.7669\n",
      "Epoch 24/100\n",
      "65/65 [==============================] - 0s 4ms/step - loss: 0.5367 - accuracy: 0.7731\n",
      "Epoch 25/100\n",
      "65/65 [==============================] - 0s 4ms/step - loss: 0.5323 - accuracy: 0.7722\n",
      "Epoch 26/100\n",
      "65/65 [==============================] - 0s 4ms/step - loss: 0.5568 - accuracy: 0.7529\n",
      "Epoch 27/100\n",
      "65/65 [==============================] - 0s 4ms/step - loss: 0.5188 - accuracy: 0.7755\n",
      "Epoch 28/100\n",
      "65/65 [==============================] - 0s 4ms/step - loss: 0.5079 - accuracy: 0.7794\n",
      "Epoch 29/100\n",
      "65/65 [==============================] - 0s 4ms/step - loss: 0.4846 - accuracy: 0.7938\n",
      "Epoch 30/100\n",
      "65/65 [==============================] - 0s 4ms/step - loss: 0.4919 - accuracy: 0.7813\n",
      "Epoch 31/100\n",
      "65/65 [==============================] - 0s 4ms/step - loss: 0.4688 - accuracy: 0.8025\n",
      "Epoch 32/100\n",
      "65/65 [==============================] - 0s 4ms/step - loss: 0.4754 - accuracy: 0.8020\n",
      "Epoch 33/100\n",
      "65/65 [==============================] - 0s 4ms/step - loss: 0.4809 - accuracy: 0.7871\n",
      "Epoch 34/100\n",
      "65/65 [==============================] - 0s 4ms/step - loss: 0.4539 - accuracy: 0.8102\n",
      "Epoch 35/100\n",
      "65/65 [==============================] - 0s 4ms/step - loss: 0.4377 - accuracy: 0.8136\n",
      "Epoch 36/100\n",
      "65/65 [==============================] - 0s 4ms/step - loss: 0.4326 - accuracy: 0.8107\n",
      "Epoch 37/100\n",
      "65/65 [==============================] - 0s 4ms/step - loss: 0.4323 - accuracy: 0.8213\n",
      "Epoch 38/100\n",
      "65/65 [==============================] - 0s 4ms/step - loss: 0.4160 - accuracy: 0.8319\n",
      "Epoch 39/100\n",
      "65/65 [==============================] - 0s 4ms/step - loss: 0.4073 - accuracy: 0.8290\n",
      "Epoch 40/100\n",
      "65/65 [==============================] - 0s 4ms/step - loss: 0.3847 - accuracy: 0.8463\n",
      "Epoch 41/100\n",
      "65/65 [==============================] - 0s 4ms/step - loss: 0.3694 - accuracy: 0.8555\n",
      "Epoch 42/100\n",
      "65/65 [==============================] - 0s 4ms/step - loss: 0.3793 - accuracy: 0.8463\n",
      "Epoch 43/100\n",
      "65/65 [==============================] - 0s 4ms/step - loss: 0.3665 - accuracy: 0.8526\n",
      "Epoch 44/100\n",
      "65/65 [==============================] - 0s 4ms/step - loss: 0.3612 - accuracy: 0.8671\n",
      "Epoch 45/100\n",
      "65/65 [==============================] - 0s 4ms/step - loss: 0.3694 - accuracy: 0.8531\n",
      "Epoch 46/100\n",
      "65/65 [==============================] - 0s 4ms/step - loss: 0.3713 - accuracy: 0.8487\n",
      "Epoch 47/100\n",
      "65/65 [==============================] - 0s 4ms/step - loss: 0.3521 - accuracy: 0.8603\n",
      "Epoch 48/100\n",
      "65/65 [==============================] - 0s 4ms/step - loss: 0.3352 - accuracy: 0.8690\n",
      "Epoch 49/100\n",
      "65/65 [==============================] - 0s 4ms/step - loss: 0.3254 - accuracy: 0.8781\n",
      "Epoch 50/100\n",
      "65/65 [==============================] - 0s 4ms/step - loss: 0.3156 - accuracy: 0.8825\n",
      "Epoch 51/100\n",
      "65/65 [==============================] - 0s 4ms/step - loss: 0.3064 - accuracy: 0.8868\n",
      "Epoch 52/100\n",
      "65/65 [==============================] - 0s 4ms/step - loss: 0.3491 - accuracy: 0.8646\n",
      "Epoch 53/100\n",
      "65/65 [==============================] - 0s 4ms/step - loss: 0.3247 - accuracy: 0.8743\n",
      "Epoch 54/100\n",
      "65/65 [==============================] - 0s 5ms/step - loss: 0.3021 - accuracy: 0.8791\n",
      "Epoch 55/100\n",
      "65/65 [==============================] - 0s 5ms/step - loss: 0.2698 - accuracy: 0.8998\n",
      "Epoch 56/100\n",
      "65/65 [==============================] - 0s 4ms/step - loss: 0.2691 - accuracy: 0.9008\n",
      "Epoch 57/100\n",
      "65/65 [==============================] - 0s 4ms/step - loss: 0.2482 - accuracy: 0.9080\n",
      "Epoch 58/100\n",
      "65/65 [==============================] - 0s 4ms/step - loss: 0.2381 - accuracy: 0.9104\n",
      "Epoch 59/100\n",
      "65/65 [==============================] - 0s 5ms/step - loss: 0.2473 - accuracy: 0.9099\n",
      "Epoch 60/100\n",
      "65/65 [==============================] - 0s 4ms/step - loss: 0.2619 - accuracy: 0.8998\n",
      "Epoch 61/100\n",
      "65/65 [==============================] - 0s 5ms/step - loss: 0.2559 - accuracy: 0.9094\n",
      "Epoch 62/100\n",
      "65/65 [==============================] - 0s 4ms/step - loss: 0.2768 - accuracy: 0.8945\n",
      "Epoch 63/100\n",
      "65/65 [==============================] - 0s 4ms/step - loss: 0.2451 - accuracy: 0.9066\n",
      "Epoch 64/100\n",
      "65/65 [==============================] - 0s 4ms/step - loss: 0.2167 - accuracy: 0.9234\n",
      "Epoch 65/100\n",
      "65/65 [==============================] - 0s 4ms/step - loss: 0.2069 - accuracy: 0.9302\n",
      "Epoch 66/100\n",
      "65/65 [==============================] - 0s 5ms/step - loss: 0.1973 - accuracy: 0.9311\n",
      "Epoch 67/100\n",
      "65/65 [==============================] - 0s 4ms/step - loss: 0.1996 - accuracy: 0.9282\n",
      "Epoch 68/100\n",
      "65/65 [==============================] - 0s 4ms/step - loss: 0.2159 - accuracy: 0.9210\n",
      "Epoch 69/100\n",
      "65/65 [==============================] - 0s 4ms/step - loss: 0.2771 - accuracy: 0.8955\n",
      "Epoch 70/100\n",
      "65/65 [==============================] - 0s 4ms/step - loss: 0.2165 - accuracy: 0.9268\n",
      "Epoch 71/100\n",
      "65/65 [==============================] - 0s 5ms/step - loss: 0.2161 - accuracy: 0.9196\n",
      "Epoch 72/100\n",
      "65/65 [==============================] - 0s 4ms/step - loss: 0.2431 - accuracy: 0.9128\n",
      "Epoch 73/100\n",
      "65/65 [==============================] - 0s 4ms/step - loss: 0.1962 - accuracy: 0.9345\n",
      "Epoch 74/100\n",
      "65/65 [==============================] - 0s 4ms/step - loss: 0.1723 - accuracy: 0.9403\n",
      "Epoch 75/100\n",
      "65/65 [==============================] - 0s 5ms/step - loss: 0.1537 - accuracy: 0.9494\n",
      "Epoch 76/100\n",
      "65/65 [==============================] - 0s 4ms/step - loss: 0.1354 - accuracy: 0.9581\n",
      "Epoch 77/100\n",
      "65/65 [==============================] - 0s 5ms/step - loss: 0.1300 - accuracy: 0.9605\n",
      "Epoch 78/100\n",
      "65/65 [==============================] - 0s 4ms/step - loss: 0.1190 - accuracy: 0.9648\n",
      "Epoch 79/100\n",
      "65/65 [==============================] - 0s 4ms/step - loss: 0.1177 - accuracy: 0.9648\n",
      "Epoch 80/100\n",
      "65/65 [==============================] - 0s 4ms/step - loss: 0.1190 - accuracy: 0.9653\n",
      "Epoch 81/100\n",
      "65/65 [==============================] - 0s 4ms/step - loss: 0.1285 - accuracy: 0.9581\n",
      "Epoch 82/100\n",
      "65/65 [==============================] - 0s 4ms/step - loss: 0.1594 - accuracy: 0.9509\n",
      "Epoch 83/100\n",
      "65/65 [==============================] - 0s 5ms/step - loss: 0.2673 - accuracy: 0.9017\n",
      "Epoch 84/100\n",
      "65/65 [==============================] - 0s 4ms/step - loss: 0.2862 - accuracy: 0.8892\n",
      "Epoch 85/100\n",
      "65/65 [==============================] - 0s 5ms/step - loss: 0.2434 - accuracy: 0.9162\n",
      "Epoch 86/100\n",
      "65/65 [==============================] - 0s 4ms/step - loss: 0.1960 - accuracy: 0.9277\n",
      "Epoch 87/100\n",
      "65/65 [==============================] - 0s 4ms/step - loss: 0.1531 - accuracy: 0.9513\n",
      "Epoch 88/100\n",
      "65/65 [==============================] - 0s 5ms/step - loss: 0.1117 - accuracy: 0.9687\n",
      "Epoch 89/100\n",
      "65/65 [==============================] - 0s 4ms/step - loss: 0.0939 - accuracy: 0.9750\n",
      "Epoch 90/100\n",
      "65/65 [==============================] - 0s 4ms/step - loss: 0.0822 - accuracy: 0.9793\n",
      "Epoch 91/100\n",
      "65/65 [==============================] - 0s 4ms/step - loss: 0.0769 - accuracy: 0.9822\n",
      "Epoch 92/100\n",
      "65/65 [==============================] - 0s 4ms/step - loss: 0.0753 - accuracy: 0.9841\n",
      "Epoch 93/100\n",
      "65/65 [==============================] - 0s 4ms/step - loss: 0.0671 - accuracy: 0.9880\n",
      "Epoch 94/100\n",
      "65/65 [==============================] - 0s 5ms/step - loss: 0.0589 - accuracy: 0.9875\n",
      "Epoch 95/100\n",
      "65/65 [==============================] - 0s 4ms/step - loss: 0.0548 - accuracy: 0.9899\n",
      "Epoch 96/100\n",
      "65/65 [==============================] - 0s 4ms/step - loss: 0.0527 - accuracy: 0.9923\n",
      "Epoch 97/100\n",
      "65/65 [==============================] - 0s 4ms/step - loss: 0.0501 - accuracy: 0.9928\n",
      "Epoch 98/100\n",
      "65/65 [==============================] - 0s 4ms/step - loss: 0.0476 - accuracy: 0.9928\n",
      "Epoch 99/100\n",
      "65/65 [==============================] - 0s 4ms/step - loss: 0.0501 - accuracy: 0.9894\n",
      "Epoch 100/100\n",
      "65/65 [==============================] - 0s 5ms/step - loss: 0.2350 - accuracy: 0.9224\n"
     ]
    },
    {
     "data": {
      "text/plain": [
       "<keras.src.callbacks.History at 0x1ec775d76d0>"
      ]
     },
     "execution_count": 5,
     "metadata": {},
     "output_type": "execute_result"
    }
   ],
   "source": [
    "epochs = 100\n",
    "rnn.fit(x_train,y_train, epochs=epochs)"
   ]
  },
  {
   "cell_type": "code",
   "execution_count": 6,
   "id": "7842363f-6692-4632-a5b4-8b242a34a707",
   "metadata": {},
   "outputs": [
    {
     "name": "stdout",
     "output_type": "stream",
     "text": [
      "22/22 [==============================] - 0s 3ms/step - loss: 1.2800 - accuracy: 0.7128\n"
     ]
    },
    {
     "data": {
      "text/plain": [
       "[1.279965877532959, 0.7128427028656006]"
      ]
     },
     "execution_count": 6,
     "metadata": {},
     "output_type": "execute_result"
    }
   ],
   "source": [
    "rnn.evaluate(x_test,y_test)"
   ]
  },
  {
   "cell_type": "code",
   "execution_count": 7,
   "id": "f37fdbcf-4f05-4fa5-8c87-3dee2d1ef6bd",
   "metadata": {},
   "outputs": [],
   "source": [
    "def try_other_sentences(sentence):\n",
    "    voc_size_val = 10000\n",
    "    input_val = [sentence] \n",
    "    out_put = []\n",
    "    for x in input_val:\n",
    "        val = word_tokenize(x)\n",
    "        one_rpr = one_hot(str(val),n=voc_size_val,lower=False,split=None)\n",
    "        out_put.append(one_rpr)\n",
    "    sent_length = 15\n",
    "    embedded_sentence = pad_sequences(out_put,padding='post',maxlen=sent_length) #input- sentence\n",
    "    value_to_pass = model.predict(embedded_sentence) \n",
    "    # rows = value_to_pass.shape[0]\n",
    "    # cols = value_to_pass.shape[1] * value_to_pass.shape[2]\n",
    "    # value_to_pass = value_to_pass.reshape(rows,cols) #coverting test sentence to same shape of 'x' . as we trained on.\n",
    "    return value_to_pass"
   ]
  },
  {
   "cell_type": "code",
   "execution_count": 53,
   "id": "37a1f712-62c2-4e49-a153-164b955874b0",
   "metadata": {},
   "outputs": [
    {
     "name": "stdout",
     "output_type": "stream",
     "text": [
      "1/1 [==============================] - 0s 25ms/step\n"
     ]
    }
   ],
   "source": [
    "value = try_other_sentences('I was wrong about this')"
   ]
  },
  {
   "cell_type": "code",
   "execution_count": 54,
   "id": "af171074-3f8e-406f-8b54-80039d936ac9",
   "metadata": {},
   "outputs": [
    {
     "name": "stdout",
     "output_type": "stream",
     "text": [
      "1/1 [==============================] - 0s 29ms/step\n"
     ]
    }
   ],
   "source": [
    "predictions = rnn.predict(value)"
   ]
  },
  {
   "cell_type": "code",
   "execution_count": 55,
   "id": "9ef66422-1b3b-4357-9fba-40ae793b6b9a",
   "metadata": {},
   "outputs": [],
   "source": [
    "predict_class = np.argmax(predictions,axis=1)"
   ]
  },
  {
   "cell_type": "code",
   "execution_count": 56,
   "id": "22a26b11-6592-43e2-b6e2-37ad4664ab03",
   "metadata": {},
   "outputs": [
    {
     "name": "stdout",
     "output_type": "stream",
     "text": [
      "[[5.0909845e-09 9.9994290e-01 5.7071495e-05]]\n"
     ]
    }
   ],
   "source": [
    "print(predictions)"
   ]
  },
  {
   "cell_type": "code",
   "execution_count": 57,
   "id": "7be6819b-9f53-4ebf-a730-66733dd0f1e3",
   "metadata": {},
   "outputs": [
    {
     "name": "stdout",
     "output_type": "stream",
     "text": [
      "[1]\n"
     ]
    }
   ],
   "source": [
    "print(predict_class) #[1] index for past , [2] index for present , [0] index for future ....if o - past , 1 -present , 2-future"
   ]
  },
  {
   "cell_type": "code",
   "execution_count": 58,
   "id": "311b6bc3-4206-4a0d-8a9e-43c539e58c0d",
   "metadata": {},
   "outputs": [],
   "source": [
    "label_to_index = {\"past\": 1, \"present\": 2,\"future\":0}\n",
    "index_to_label = {v: k for k, v in label_to_index.items()}"
   ]
  },
  {
   "cell_type": "code",
   "execution_count": 59,
   "id": "d7294fa7-27f7-4478-ba41-5ca454cb9d48",
   "metadata": {},
   "outputs": [
    {
     "name": "stdout",
     "output_type": "stream",
     "text": [
      "\n",
      "Predicted Original Labels: ['past']\n"
     ]
    }
   ],
   "source": [
    "predicted_labels = [index_to_label[index] for index in predict_class]\n",
    "print(\"\\nPredicted Original Labels:\", predicted_labels)"
   ]
  },
  {
   "cell_type": "code",
   "execution_count": null,
   "id": "0c1287e1-2707-4b2a-a2cb-9002655f36dd",
   "metadata": {},
   "outputs": [],
   "source": []
  },
  {
   "cell_type": "code",
   "execution_count": null,
   "id": "f457df15-6f63-41da-8046-866c5e465fc5",
   "metadata": {},
   "outputs": [],
   "source": []
  },
  {
   "cell_type": "code",
   "execution_count": 15,
   "id": "017bc968-a053-4565-9aec-c9b74bd4db03",
   "metadata": {},
   "outputs": [],
   "source": [
    "# y[2700] , data['Categorie'][2700] "
   ]
  },
  {
   "cell_type": "code",
   "execution_count": 16,
   "id": "52ea03e3-569c-4adf-aa49-82fd7f096b10",
   "metadata": {},
   "outputs": [],
   "source": [
    "# y[1000] , data['Categorie'][1000] "
   ]
  },
  {
   "cell_type": "code",
   "execution_count": 17,
   "id": "75148dda-7806-4bcb-b6c3-26a1076aca52",
   "metadata": {},
   "outputs": [],
   "source": [
    "# y[0] , data['Categorie'][0] "
   ]
  }
 ],
 "metadata": {
  "kernelspec": {
   "display_name": "Python 3 (ipykernel)",
   "language": "python",
   "name": "python3"
  },
  "language_info": {
   "codemirror_mode": {
    "name": "ipython",
    "version": 3
   },
   "file_extension": ".py",
   "mimetype": "text/x-python",
   "name": "python",
   "nbconvert_exporter": "python",
   "pygments_lexer": "ipython3",
   "version": "3.11.5"
  }
 },
 "nbformat": 4,
 "nbformat_minor": 5
}
